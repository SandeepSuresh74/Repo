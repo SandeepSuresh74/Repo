{
 "cells": [
  {
   "cell_type": "code",
   "execution_count": 1,
   "metadata": {},
   "outputs": [
    {
     "name": "stderr",
     "output_type": "stream",
     "text": [
      "/Users/apple/anaconda3/lib/python3.6/site-packages/h5py/__init__.py:34: FutureWarning: Conversion of the second argument of issubdtype from `float` to `np.floating` is deprecated. In future, it will be treated as `np.float64 == np.dtype(float).type`.\n",
      "  from ._conv import register_converters as _register_converters\n",
      "Using TensorFlow backend.\n"
     ]
    }
   ],
   "source": [
    "#Libraries \n",
    "import numpy as np\n",
    "import matplotlib.pyplot as plt\n",
    "import pandas as pd\n",
    "\n",
    "#Libraries for keras\n",
    "from keras.models import Sequential\n",
    "from keras.layers import Dense\n",
    "from keras.wrappers.scikit_learn import KerasRegressor\n",
    "from keras import backend\n",
    "\n",
    "#Libraries for cross-validation\n",
    "from sklearn.model_selection import cross_val_score\n",
    "from sklearn.model_selection import KFold\n",
    "from sklearn.pipeline import Pipeline\n",
    "from sklearn.model_selection import StratifiedKFold\n",
    "\n",
    "#Libraries for plots\n",
    "import matplotlib.pyplot as plt\n",
    "import seaborn as sns\n",
    "%matplotlib inline\n"
   ]
  },
  {
   "cell_type": "code",
   "execution_count": 2,
   "metadata": {
    "collapsed": true
   },
   "outputs": [],
   "source": [
    "#Read the training dataset\n",
    "dataset = pd.read_csv(\"train.csv\")\n"
   ]
  },
  {
   "cell_type": "code",
   "execution_count": 3,
   "metadata": {},
   "outputs": [
    {
     "data": {
      "text/html": [
       "<div>\n",
       "<style scoped>\n",
       "    .dataframe tbody tr th:only-of-type {\n",
       "        vertical-align: middle;\n",
       "    }\n",
       "\n",
       "    .dataframe tbody tr th {\n",
       "        vertical-align: top;\n",
       "    }\n",
       "\n",
       "    .dataframe thead th {\n",
       "        text-align: right;\n",
       "    }\n",
       "</style>\n",
       "<table border=\"1\" class=\"dataframe\">\n",
       "  <thead>\n",
       "    <tr style=\"text-align: right;\">\n",
       "      <th></th>\n",
       "      <th>User_ID</th>\n",
       "      <th>Product_ID</th>\n",
       "      <th>Gender</th>\n",
       "      <th>Age</th>\n",
       "      <th>Occupation</th>\n",
       "      <th>City_Category</th>\n",
       "      <th>Stay_In_Current_City_Years</th>\n",
       "      <th>Marital_Status</th>\n",
       "      <th>Product_Category_1</th>\n",
       "      <th>Product_Category_2</th>\n",
       "      <th>Product_Category_3</th>\n",
       "      <th>Purchase</th>\n",
       "    </tr>\n",
       "  </thead>\n",
       "  <tbody>\n",
       "    <tr>\n",
       "      <th>0</th>\n",
       "      <td>1000001</td>\n",
       "      <td>P00069042</td>\n",
       "      <td>F</td>\n",
       "      <td>0-17</td>\n",
       "      <td>10</td>\n",
       "      <td>A</td>\n",
       "      <td>2</td>\n",
       "      <td>0</td>\n",
       "      <td>3</td>\n",
       "      <td>NaN</td>\n",
       "      <td>NaN</td>\n",
       "      <td>8370</td>\n",
       "    </tr>\n",
       "    <tr>\n",
       "      <th>1</th>\n",
       "      <td>1000001</td>\n",
       "      <td>P00248942</td>\n",
       "      <td>F</td>\n",
       "      <td>0-17</td>\n",
       "      <td>10</td>\n",
       "      <td>A</td>\n",
       "      <td>2</td>\n",
       "      <td>0</td>\n",
       "      <td>1</td>\n",
       "      <td>6.0</td>\n",
       "      <td>14.0</td>\n",
       "      <td>15200</td>\n",
       "    </tr>\n",
       "    <tr>\n",
       "      <th>2</th>\n",
       "      <td>1000001</td>\n",
       "      <td>P00087842</td>\n",
       "      <td>F</td>\n",
       "      <td>0-17</td>\n",
       "      <td>10</td>\n",
       "      <td>A</td>\n",
       "      <td>2</td>\n",
       "      <td>0</td>\n",
       "      <td>12</td>\n",
       "      <td>NaN</td>\n",
       "      <td>NaN</td>\n",
       "      <td>1422</td>\n",
       "    </tr>\n",
       "    <tr>\n",
       "      <th>3</th>\n",
       "      <td>1000001</td>\n",
       "      <td>P00085442</td>\n",
       "      <td>F</td>\n",
       "      <td>0-17</td>\n",
       "      <td>10</td>\n",
       "      <td>A</td>\n",
       "      <td>2</td>\n",
       "      <td>0</td>\n",
       "      <td>12</td>\n",
       "      <td>14.0</td>\n",
       "      <td>NaN</td>\n",
       "      <td>1057</td>\n",
       "    </tr>\n",
       "    <tr>\n",
       "      <th>4</th>\n",
       "      <td>1000002</td>\n",
       "      <td>P00285442</td>\n",
       "      <td>M</td>\n",
       "      <td>55+</td>\n",
       "      <td>16</td>\n",
       "      <td>C</td>\n",
       "      <td>4+</td>\n",
       "      <td>0</td>\n",
       "      <td>8</td>\n",
       "      <td>NaN</td>\n",
       "      <td>NaN</td>\n",
       "      <td>7969</td>\n",
       "    </tr>\n",
       "  </tbody>\n",
       "</table>\n",
       "</div>"
      ],
      "text/plain": [
       "   User_ID Product_ID Gender   Age  Occupation City_Category  \\\n",
       "0  1000001  P00069042      F  0-17          10             A   \n",
       "1  1000001  P00248942      F  0-17          10             A   \n",
       "2  1000001  P00087842      F  0-17          10             A   \n",
       "3  1000001  P00085442      F  0-17          10             A   \n",
       "4  1000002  P00285442      M   55+          16             C   \n",
       "\n",
       "  Stay_In_Current_City_Years  Marital_Status  Product_Category_1  \\\n",
       "0                          2               0                   3   \n",
       "1                          2               0                   1   \n",
       "2                          2               0                  12   \n",
       "3                          2               0                  12   \n",
       "4                         4+               0                   8   \n",
       "\n",
       "   Product_Category_2  Product_Category_3  Purchase  \n",
       "0                 NaN                 NaN      8370  \n",
       "1                 6.0                14.0     15200  \n",
       "2                 NaN                 NaN      1422  \n",
       "3                14.0                 NaN      1057  \n",
       "4                 NaN                 NaN      7969  "
      ]
     },
     "execution_count": 3,
     "metadata": {},
     "output_type": "execute_result"
    }
   ],
   "source": [
    "#Display of top-5 entries in the dataset\n",
    "dataset.head()"
   ]
  },
  {
   "cell_type": "code",
   "execution_count": 4,
   "metadata": {},
   "outputs": [
    {
     "data": {
      "text/plain": [
       "(550068, 12)"
      ]
     },
     "execution_count": 4,
     "metadata": {},
     "output_type": "execute_result"
    }
   ],
   "source": [
    "#Dataset dimension\n",
    "dataset.shape"
   ]
  },
  {
   "cell_type": "code",
   "execution_count": 5,
   "metadata": {},
   "outputs": [
    {
     "data": {
      "text/plain": [
       "User_ID                         int64\n",
       "Product_ID                     object\n",
       "Gender                         object\n",
       "Age                            object\n",
       "Occupation                      int64\n",
       "City_Category                  object\n",
       "Stay_In_Current_City_Years     object\n",
       "Marital_Status                  int64\n",
       "Product_Category_1              int64\n",
       "Product_Category_2            float64\n",
       "Product_Category_3            float64\n",
       "Purchase                        int64\n",
       "dtype: object"
      ]
     },
     "execution_count": 5,
     "metadata": {},
     "output_type": "execute_result"
    }
   ],
   "source": [
    "#Data type of the dataset\n",
    "dataset.dtypes"
   ]
  },
  {
   "cell_type": "code",
   "execution_count": 6,
   "metadata": {},
   "outputs": [
    {
     "name": "stderr",
     "output_type": "stream",
     "text": [
      "/Users/apple/anaconda3/lib/python3.6/site-packages/seaborn/categorical.py:3666: UserWarning: The `factorplot` function has been renamed to `catplot`. The original name will be removed in a future release. Please update your code. Note that the default `kind` in `factorplot` (`'point'`) has changed `'strip'` in `catplot`.\n",
      "  warnings.warn(msg)\n"
     ]
    },
    {
     "data": {
      "text/plain": [
       "<function matplotlib.pyplot.show>"
      ]
     },
     "execution_count": 6,
     "metadata": {},
     "output_type": "execute_result"
    },
    {
     "data": {
      "image/png": "[encoded data removed]",
      "text/plain": [
       "<matplotlib.figure.Figure at 0x1a26cbe710>"
      ]
     },
     "metadata": {},
     "output_type": "display_data"
    }
   ],
   "source": [
    "# Data Exploration and Plotting\n",
    "sns.factorplot(\"City_Category\", \"Purchase\", \"Gender\", data=dataset, kind=\"bar\", legend = True) \n",
    "plt.show"
   ]
  },
  {
   "cell_type": "code",
   "execution_count": 7,
   "metadata": {},
   "outputs": [
    {
     "data": {
      "image/png": "[encoded data removed]",
      "text/plain": [
       "<matplotlib.figure.Figure at 0x1a2215beb8>"
      ]
     },
     "metadata": {},
     "output_type": "display_data"
    }
   ],
   "source": [
    "plt.figure(figsize=(12, 6))\n",
    "dataset.drop(['User_ID', 'Product_ID'], axis=1, inplace=True)\n",
    "corr = dataset.apply(lambda x: pd.factorize(x)[0]).corr()\n",
    "ax = sns.heatmap(corr, xticklabels=corr.columns, yticklabels=corr.columns, \n",
    "                 linewidths=.2, cmap=\"YlGnBu\")"
   ]
  },
  {
   "cell_type": "code",
   "execution_count": 8,
   "metadata": {},
   "outputs": [
    {
     "data": {
      "text/plain": [
       "Gender                             0\n",
       "Age                                0\n",
       "Occupation                         0\n",
       "City_Category                      0\n",
       "Stay_In_Current_City_Years         0\n",
       "Marital_Status                     0\n",
       "Product_Category_1                 0\n",
       "Product_Category_2            173638\n",
       "Product_Category_3            383247\n",
       "Purchase                           0\n",
       "dtype: int64"
      ]
     },
     "execution_count": 8,
     "metadata": {},
     "output_type": "execute_result"
    }
   ],
   "source": [
    "dataset.isnull().sum()"
   ]
  },
  {
   "cell_type": "code",
   "execution_count": 9,
   "metadata": {},
   "outputs": [
    {
     "data": {
      "text/plain": [
       "M    414259\n",
       "F    135809\n",
       "Name: Gender, dtype: int64"
      ]
     },
     "execution_count": 9,
     "metadata": {},
     "output_type": "execute_result"
    }
   ],
   "source": [
    "dataset[\"Gender\"].value_counts()"
   ]
  },
  {
   "cell_type": "code",
   "execution_count": 10,
   "metadata": {},
   "outputs": [
    {
     "data": {
      "text/plain": [
       "26-35    219587\n",
       "36-45    110013\n",
       "18-25     99660\n",
       "46-50     45701\n",
       "51-55     38501\n",
       "55+       21504\n",
       "0-17      15102\n",
       "Name: Age, dtype: int64"
      ]
     },
     "execution_count": 10,
     "metadata": {},
     "output_type": "execute_result"
    }
   ],
   "source": [
    "dataset[\"Age\"].value_counts()\n"
   ]
  },
  {
   "cell_type": "code",
   "execution_count": 11,
   "metadata": {},
   "outputs": [
    {
     "data": {
      "text/plain": [
       "B    231173\n",
       "C    171175\n",
       "A    147720\n",
       "Name: City_Category, dtype: int64"
      ]
     },
     "execution_count": 11,
     "metadata": {},
     "output_type": "execute_result"
    }
   ],
   "source": [
    "dataset[\"City_Category\"].value_counts()\n"
   ]
  },
  {
   "cell_type": "code",
   "execution_count": 49,
   "metadata": {
    "collapsed": true
   },
   "outputs": [],
   "source": [
    "#Data Preprocessing\n",
    "dataset[\"Age\"]=dataset[\"Age\"].str.replace('0-17','15') #0 to 17 age range is stored as 15\n",
    "dataset[\"Age\"]=dataset[\"Age\"].str.replace('55\\+','60') #age above 55+ is considered as 60\n",
    "new = dataset[\"Age\"].str.split(\"-\", n = 1, expand = True).astype(float) #retain the lower value in the age range and typecast it to float\n",
    "dataset[\"Age\"] = new[0]   \n",
    "dataset[\"Stay_In_Current_City_Years\"]=dataset[\"Stay_In_Current_City_Years\"].str.replace('4\\+','4') #consider stay in city as 4 years for people living more than 4 years        "
   ]
  },
  {
   "cell_type": "code",
   "execution_count": 51,
   "metadata": {
    "collapsed": true
   },
   "outputs": [],
   "source": [
    "#Missing category value replace it by 0,because we are not sure of the category type that they might belong to\n",
    "dataset[\"Product_Category_2\"].fillna(0, inplace = True) \n",
    "dataset[\"Product_Category_3\"].fillna(0, inplace = True)"
   ]
  },
  {
   "cell_type": "code",
   "execution_count": 52,
   "metadata": {
    "collapsed": true
   },
   "outputs": [],
   "source": [
    "# Encode the categorical data to numeric value\n",
    "df_encoded = pd.get_dummies(dataset, columns=['Gender','City_Category'], drop_first=True)"
   ]
  },
  {
   "cell_type": "code",
   "execution_count": 53,
   "metadata": {},
   "outputs": [
    {
     "data": {
      "text/html": [
       "<div>\n",
       "<style scoped>\n",
       "    .dataframe tbody tr th:only-of-type {\n",
       "        vertical-align: middle;\n",
       "    }\n",
       "\n",
       "    .dataframe tbody tr th {\n",
       "        vertical-align: top;\n",
       "    }\n",
       "\n",
       "    .dataframe thead th {\n",
       "        text-align: right;\n",
       "    }\n",
       "</style>\n",
       "<table border=\"1\" class=\"dataframe\">\n",
       "  <thead>\n",
       "    <tr style=\"text-align: right;\">\n",
       "      <th></th>\n",
       "      <th>User_ID</th>\n",
       "      <th>Product_ID</th>\n",
       "      <th>Age</th>\n",
       "      <th>Occupation</th>\n",
       "      <th>Stay_In_Current_City_Years</th>\n",
       "      <th>Marital_Status</th>\n",
       "      <th>Product_Category_1</th>\n",
       "      <th>Product_Category_2</th>\n",
       "      <th>Product_Category_3</th>\n",
       "      <th>Purchase</th>\n",
       "      <th>Gender_M</th>\n",
       "      <th>City_Category_B</th>\n",
       "      <th>City_Category_C</th>\n",
       "    </tr>\n",
       "  </thead>\n",
       "  <tbody>\n",
       "    <tr>\n",
       "      <th>0</th>\n",
       "      <td>1000001</td>\n",
       "      <td>P00069042</td>\n",
       "      <td>15.0</td>\n",
       "      <td>10</td>\n",
       "      <td>2</td>\n",
       "      <td>0</td>\n",
       "      <td>3</td>\n",
       "      <td>0.0</td>\n",
       "      <td>0.0</td>\n",
       "      <td>8370</td>\n",
       "      <td>0</td>\n",
       "      <td>0</td>\n",
       "      <td>0</td>\n",
       "    </tr>\n",
       "    <tr>\n",
       "      <th>1</th>\n",
       "      <td>1000001</td>\n",
       "      <td>P00248942</td>\n",
       "      <td>15.0</td>\n",
       "      <td>10</td>\n",
       "      <td>2</td>\n",
       "      <td>0</td>\n",
       "      <td>1</td>\n",
       "      <td>6.0</td>\n",
       "      <td>14.0</td>\n",
       "      <td>15200</td>\n",
       "      <td>0</td>\n",
       "      <td>0</td>\n",
       "      <td>0</td>\n",
       "    </tr>\n",
       "    <tr>\n",
       "      <th>2</th>\n",
       "      <td>1000001</td>\n",
       "      <td>P00087842</td>\n",
       "      <td>15.0</td>\n",
       "      <td>10</td>\n",
       "      <td>2</td>\n",
       "      <td>0</td>\n",
       "      <td>12</td>\n",
       "      <td>0.0</td>\n",
       "      <td>0.0</td>\n",
       "      <td>1422</td>\n",
       "      <td>0</td>\n",
       "      <td>0</td>\n",
       "      <td>0</td>\n",
       "    </tr>\n",
       "    <tr>\n",
       "      <th>3</th>\n",
       "      <td>1000001</td>\n",
       "      <td>P00085442</td>\n",
       "      <td>15.0</td>\n",
       "      <td>10</td>\n",
       "      <td>2</td>\n",
       "      <td>0</td>\n",
       "      <td>12</td>\n",
       "      <td>14.0</td>\n",
       "      <td>0.0</td>\n",
       "      <td>1057</td>\n",
       "      <td>0</td>\n",
       "      <td>0</td>\n",
       "      <td>0</td>\n",
       "    </tr>\n",
       "    <tr>\n",
       "      <th>4</th>\n",
       "      <td>1000002</td>\n",
       "      <td>P00285442</td>\n",
       "      <td>60.0</td>\n",
       "      <td>16</td>\n",
       "      <td>4</td>\n",
       "      <td>0</td>\n",
       "      <td>8</td>\n",
       "      <td>0.0</td>\n",
       "      <td>0.0</td>\n",
       "      <td>7969</td>\n",
       "      <td>1</td>\n",
       "      <td>0</td>\n",
       "      <td>1</td>\n",
       "    </tr>\n",
       "  </tbody>\n",
       "</table>\n",
       "</div>"
      ],
      "text/plain": [
       "   User_ID Product_ID   Age  Occupation Stay_In_Current_City_Years  \\\n",
       "0  1000001  P00069042  15.0          10                          2   \n",
       "1  1000001  P00248942  15.0          10                          2   \n",
       "2  1000001  P00087842  15.0          10                          2   \n",
       "3  1000001  P00085442  15.0          10                          2   \n",
       "4  1000002  P00285442  60.0          16                          4   \n",
       "\n",
       "   Marital_Status  Product_Category_1  Product_Category_2  Product_Category_3  \\\n",
       "0               0                   3                 0.0                 0.0   \n",
       "1               0                   1                 6.0                14.0   \n",
       "2               0                  12                 0.0                 0.0   \n",
       "3               0                  12                14.0                 0.0   \n",
       "4               0                   8                 0.0                 0.0   \n",
       "\n",
       "   Purchase  Gender_M  City_Category_B  City_Category_C  \n",
       "0      8370         0                0                0  \n",
       "1     15200         0                0                0  \n",
       "2      1422         0                0                0  \n",
       "3      1057         0                0                0  \n",
       "4      7969         1                0                1  "
      ]
     },
     "execution_count": 53,
     "metadata": {},
     "output_type": "execute_result"
    }
   ],
   "source": [
    "# Print top-5 enteries after encoding the data\n",
    "df_encoded.head()"
   ]
  },
  {
   "cell_type": "code",
   "execution_count": 54,
   "metadata": {},
   "outputs": [
    {
     "data": {
      "text/plain": [
       "(550068, 13)"
      ]
     },
     "execution_count": 54,
     "metadata": {},
     "output_type": "execute_result"
    }
   ],
   "source": [
    "#Dimension of the encoded-data, we now have one additional column for the city_category\n",
    "df_encoded.shape"
   ]
  },
  {
   "cell_type": "code",
   "execution_count": 55,
   "metadata": {},
   "outputs": [
    {
     "data": {
      "text/plain": [
       "Index(['User_ID', 'Product_ID', 'Age', 'Occupation',\n",
       "       'Stay_In_Current_City_Years', 'Marital_Status', 'Product_Category_1',\n",
       "       'Product_Category_2', 'Product_Category_3', 'Purchase', 'Gender_M',\n",
       "       'City_Category_B', 'City_Category_C'],\n",
       "      dtype='object')"
      ]
     },
     "execution_count": 55,
     "metadata": {},
     "output_type": "execute_result"
    }
   ],
   "source": [
    "#Check the columns after dummy encoding\n",
    "df_encoded.columns"
   ]
  },
  {
   "cell_type": "code",
   "execution_count": 56,
   "metadata": {},
   "outputs": [
    {
     "data": {
      "text/plain": [
       "User_ID                         int64\n",
       "Product_ID                     object\n",
       "Age                           float64\n",
       "Occupation                      int64\n",
       "Stay_In_Current_City_Years     object\n",
       "Marital_Status                  int64\n",
       "Product_Category_1              int64\n",
       "Product_Category_2            float64\n",
       "Product_Category_3            float64\n",
       "Purchase                        int64\n",
       "Gender_M                        uint8\n",
       "City_Category_B                 uint8\n",
       "City_Category_C                 uint8\n",
       "dtype: object"
      ]
     },
     "execution_count": 56,
     "metadata": {},
     "output_type": "execute_result"
    }
   ],
   "source": [
    "df_encoded.dtypes"
   ]
  },
  {
   "cell_type": "code",
   "execution_count": 57,
   "metadata": {
    "collapsed": true
   },
   "outputs": [],
   "source": [
    "#Store the encoded dataset as a copy\n",
    "dataset = df_encoded\n"
   ]
  },
  {
   "cell_type": "code",
   "execution_count": 58,
   "metadata": {
    "collapsed": true
   },
   "outputs": [],
   "source": [
    "#Create independent variable - eliminating categorical data like user_id and product_id \n",
    "X = df_encoded.drop(['Purchase', 'User_ID','Product_ID'],axis = 1)"
   ]
  },
  {
   "cell_type": "code",
   "execution_count": 59,
   "metadata": {},
   "outputs": [
    {
     "data": {
      "text/plain": [
       "Age                           float64\n",
       "Occupation                      int64\n",
       "Stay_In_Current_City_Years     object\n",
       "Marital_Status                  int64\n",
       "Product_Category_1              int64\n",
       "Product_Category_2            float64\n",
       "Product_Category_3            float64\n",
       "Gender_M                        uint8\n",
       "City_Category_B                 uint8\n",
       "City_Category_C                 uint8\n",
       "dtype: object"
      ]
     },
     "execution_count": 59,
     "metadata": {},
     "output_type": "execute_result"
    }
   ],
   "source": [
    "X.dtypes"
   ]
  },
  {
   "cell_type": "code",
   "execution_count": 60,
   "metadata": {
    "collapsed": true
   },
   "outputs": [],
   "source": [
    "#storing the dependent variable-purchase \n",
    "Y = dataset.iloc[:,9].values"
   ]
  },
  {
   "cell_type": "code",
   "execution_count": 61,
   "metadata": {
    "collapsed": true
   },
   "outputs": [],
   "source": [
    "#split the dataset into train and hold-out set. The split ratio is 80:20 [Train as 80 and hold out as 20]\n",
    "from sklearn.model_selection import train_test_split\n",
    "xTrain, xTest, yTrain, yTest = train_test_split(X, Y, test_size = 0.2, random_state = 500)\n"
   ]
  },
  {
   "cell_type": "code",
   "execution_count": 62,
   "metadata": {
    "scrolled": true
   },
   "outputs": [
    {
     "name": "stderr",
     "output_type": "stream",
     "text": [
      "C:\\Users\\meghn\\Anaconda3\\lib\\site-packages\\sklearn\\model_selection\\_split.py:605: Warning: The least populated class in y has only 1 members, which is too few. The minimum number of members in any class cannot be less than n_splits=5.\n",
      "  % (min_groups, self.n_splits)), Warning)\n"
     ]
    },
    {
     "name": "stdout",
     "output_type": "stream",
     "text": [
      "Epoch 1/10\n",
      "440054/440054 [==============================] - 15s 34us/step - loss: 26344998.2629 - mean_squared_error: 26344998.2629\n",
      "Epoch 2/10\n",
      "440054/440054 [==============================] - 15s 34us/step - loss: 19063504.7406 - mean_squared_error: 19063504.7406\n",
      "Epoch 3/10\n",
      "440054/440054 [==============================] - 16s 36us/step - loss: 18085555.2961 - mean_squared_error: 18085555.29610s - loss: 18091318.7787 - mean_squared_error: 18091318.\n",
      "Epoch 4/10\n",
      "440054/440054 [==============================] - 15s 35us/step - loss: 17870293.8180 - mean_squared_error: 17870293.8180\n",
      "Epoch 5/10\n",
      "440054/440054 [==============================] - 16s 35us/step - loss: 17775177.8803 - mean_squared_error: 17775177.8803\n",
      "Epoch 6/10\n",
      "440054/440054 [==============================] - 22s 51us/step - loss: 17714417.3347 - mean_squared_error: 17714417.3347\n",
      "Epoch 7/10\n",
      "440054/440054 [==============================] - 16s 37us/step - loss: 17668162.2136 - mean_squared_error: 17668162.2136\n",
      "Epoch 8/10\n",
      "440054/440054 [==============================] - 18s 41us/step - loss: 17635835.5476 - mean_squared_error: 17635835.5476\n",
      "Epoch 9/10\n",
      "440054/440054 [==============================] - 21s 49us/step - loss: 17608377.4014 - mean_squared_error: 17608377.4014\n",
      "Epoch 10/10\n",
      "440054/440054 [==============================] - 15s 33us/step - loss: 17588574.6198 - mean_squared_error: 17588574.6198\n",
      "Epoch 1/10\n",
      "440054/440054 [==============================] - 15s 35us/step - loss: 28291850.6912 - mean_squared_error: 28291850.6912\n",
      "Epoch 2/10\n",
      "440054/440054 [==============================] - 16s 36us/step - loss: 20342474.8938 - mean_squared_error: 20342474.8938\n",
      "Epoch 3/10\n",
      "440054/440054 [==============================] - 16s 37us/step - loss: 18214107.6761 - mean_squared_error: 18214107.6761\n",
      "Epoch 4/10\n",
      "440054/440054 [==============================] - 17s 38us/step - loss: 17881251.6472 - mean_squared_error: 17881251.6472\n",
      "Epoch 5/10\n",
      "440054/440054 [==============================] - 16s 36us/step - loss: 17783043.3941 - mean_squared_error: 17783043.3941\n",
      "Epoch 6/10\n",
      "440054/440054 [==============================] - 15s 34us/step - loss: 17740413.5041 - mean_squared_error: 17740413.5041\n",
      "Epoch 7/10\n",
      "440054/440054 [==============================] - 18s 42us/step - loss: 17711129.2067 - mean_squared_error: 17711129.2067\n",
      "Epoch 8/10\n",
      "440054/440054 [==============================] - 14s 33us/step - loss: 17690922.9477 - mean_squared_error: 17690922.9477\n",
      "Epoch 9/10\n",
      "440054/440054 [==============================] - 15s 34us/step - loss: 17679915.2569 - mean_squared_error: 17679915.2569\n",
      "Epoch 10/10\n",
      "440054/440054 [==============================] - 16s 36us/step - loss: 17671965.9481 - mean_squared_error: 17671965.9481\n",
      "Epoch 1/10\n",
      "440054/440054 [==============================] - 15s 35us/step - loss: 25991990.7220 - mean_squared_error: 25991990.7220\n",
      "Epoch 2/10\n",
      "440054/440054 [==============================] - 15s 34us/step - loss: 18882437.4653 - mean_squared_error: 18882437.4653\n",
      "Epoch 3/10\n",
      "440054/440054 [==============================] - 15s 34us/step - loss: 18025430.7671 - mean_squared_error: 18025430.7671\n",
      "Epoch 4/10\n",
      "440054/440054 [==============================] - 15s 34us/step - loss: 17871080.7793 - mean_squared_error: 17871080.7793\n",
      "Epoch 5/10\n",
      "440054/440054 [==============================] - 15s 35us/step - loss: 17785885.0868 - mean_squared_error: 17785885.08682s - loss: 17757500.8967 - mea\n",
      "Epoch 6/10\n",
      "440054/440054 [==============================] - 15s 34us/step - loss: 17733541.5134 - mean_squared_error: 17733541.5134\n",
      "Epoch 7/10\n",
      "440054/440054 [==============================] - 15s 35us/step - loss: 17706505.6046 - mean_squared_error: 17706505.6046\n",
      "Epoch 8/10\n",
      "440054/440054 [==============================] - 18s 41us/step - loss: 17690022.0302 - mean_squared_error: 17690022.0302\n",
      "Epoch 9/10\n",
      "440054/440054 [==============================] - 20s 46us/step - loss: 17681484.1613 - mean_squared_error: 17681484.1613\n",
      "Epoch 10/10\n",
      "440054/440054 [==============================] - 17s 38us/step - loss: 17677051.2175 - mean_squared_error: 17677051.2175\n",
      "Epoch 1/10\n",
      "440054/440054 [==============================] - 18s 41us/step - loss: 29940455.4455 - mean_squared_error: 29940455.4455\n",
      "Epoch 2/10\n",
      "440054/440054 [==============================] - 19s 44us/step - loss: 22033086.5803 - mean_squared_error: 22033086.5803\n",
      "Epoch 3/10\n",
      "440054/440054 [==============================] - 17s 39us/step - loss: 19257097.4515 - mean_squared_error: 19257097.4515\n",
      "Epoch 4/10\n",
      "440054/440054 [==============================] - 18s 41us/step - loss: 18414773.9056 - mean_squared_error: 18414773.9056\n",
      "Epoch 5/10\n",
      "440054/440054 [==============================] - 17s 39us/step - loss: 18208676.2504 - mean_squared_error: 18208676.2504\n",
      "Epoch 6/10\n",
      "440054/440054 [==============================] - 21s 49us/step - loss: 18120256.6184 - mean_squared_error: 18120256.6184\n",
      "Epoch 7/10\n",
      "440054/440054 [==============================] - 16s 36us/step - loss: 18051528.9173 - mean_squared_error: 18051528.9173\n",
      "Epoch 8/10\n",
      "440054/440054 [==============================] - 16s 37us/step - loss: 17991328.1333 - mean_squared_error: 17991328.1333\n",
      "Epoch 9/10\n",
      "440054/440054 [==============================] - 18s 42us/step - loss: 17939167.6175 - mean_squared_error: 17939167.6175\n",
      "Epoch 10/10\n",
      "440054/440054 [==============================] - 17s 39us/step - loss: 17889578.9530 - mean_squared_error: 17889578.9530\n",
      "Epoch 1/10\n",
      "440054/440054 [==============================] - 18s 42us/step - loss: 26994737.1164 - mean_squared_error: 26994737.1164\n",
      "Epoch 2/10\n",
      "440054/440054 [==============================] - 17s 39us/step - loss: 19103138.8317 - mean_squared_error: 19103138.8317\n",
      "Epoch 3/10\n",
      "440054/440054 [==============================] - 17s 39us/step - loss: 18001590.6746 - mean_squared_error: 18001590.6746\n",
      "Epoch 4/10\n",
      "440054/440054 [==============================] - 17s 38us/step - loss: 17787016.2663 - mean_squared_error: 17787016.2663\n",
      "Epoch 5/10\n",
      "440054/440054 [==============================] - 17s 38us/step - loss: 17666638.6544 - mean_squared_error: 17666638.6544\n",
      "Epoch 6/10\n",
      "440054/440054 [==============================] - 17s 39us/step - loss: 17592740.5535 - mean_squared_error: 17592740.5535\n",
      "Epoch 7/10\n",
      "440054/440054 [==============================] - 16s 37us/step - loss: 17547063.5721 - mean_squared_error: 17547063.5721\n",
      "Epoch 8/10\n",
      "440054/440054 [==============================] - 17s 39us/step - loss: 17511833.0981 - mean_squared_error: 17511833.0981\n",
      "Epoch 9/10\n",
      "440054/440054 [==============================] - 16s 37us/step - loss: 17482358.5368 - mean_squared_error: 17482358.5368\n",
      "Epoch 10/10\n",
      "440054/440054 [==============================] - 20s 45us/step - loss: 17457903.8928 - mean_squared_error: 17457903.8928\n"
     ]
    },
    {
     "data": {
      "image/png": "[encoded data removed]",
      "text/plain": [
       "<matplotlib.figure.Figure at 0x21b9365f128>"
      ]
     },
     "metadata": {},
     "output_type": "display_data"
    }
   ],
   "source": [
    "#Implement k-fold validation and the ANN model, here we are suing 5-fold validation\n",
    "seed = 7\n",
    "kfold = StratifiedKFold(n_splits=5, shuffle=True, random_state=seed)\n",
    "for train, test in kfold.split(X, Y):\n",
    "    model = Sequential()\n",
    "    model.add(Dense(50, input_dim=10, activation='relu'))\n",
    "    model.add(Dense(10, activation='relu'))\n",
    "    model.add(Dense(1))\n",
    "    model.compile(loss= \"mean_squared_error\" , optimizer=\"adam\", metrics=[\"mean_squared_error\"])\n",
    "    hist = model.fit(xTrain, yTrain, epochs=10)\n",
    "plt.plot(hist.history['mean_squared_error'])\n",
    "plt.show()    \n",
    "    "
   ]
  },
  {
   "cell_type": "code",
   "execution_count": 43,
   "metadata": {},
   "outputs": [
    {
     "name": "stdout",
     "output_type": "stream",
     "text": [
      "Epoch 1/10\n",
      "440054/440054 [==============================] - 11s 25us/step - loss: 17087977.3942 - mean_squared_error: 17087977.3942\n",
      "Epoch 2/10\n",
      "440054/440054 [==============================] - 13s 29us/step - loss: 16946596.4516 - mean_squared_error: 16946596.4516\n",
      "Epoch 3/10\n",
      "440054/440054 [==============================] - 13s 30us/step - loss: 16809400.4931 - mean_squared_error: 16809400.4931\n",
      "Epoch 4/10\n",
      "440054/440054 [==============================] - 13s 31us/step - loss: 16657160.4028 - mean_squared_error: 16657160.4028\n",
      "Epoch 5/10\n",
      "440054/440054 [==============================] - 13s 30us/step - loss: 16488257.2636 - mean_squared_error: 16488257.2636\n",
      "Epoch 6/10\n",
      "440054/440054 [==============================] - 13s 30us/step - loss: 16327837.3587 - mean_squared_error: 16327837.3587\n",
      "Epoch 7/10\n",
      "440054/440054 [==============================] - 13s 30us/step - loss: 16207923.7108 - mean_squared_error: 16207923.7108\n",
      "Epoch 8/10\n",
      "440054/440054 [==============================] - 13s 30us/step - loss: 16115138.1090 - mean_squared_error: 16115138.1090\n",
      "Epoch 9/10\n",
      "440054/440054 [==============================] - 13s 30us/step - loss: 16047774.8919 - mean_squared_error: 16047774.8919\n",
      "Epoch 10/10\n",
      "440054/440054 [==============================] - 13s 29us/step - loss: 15992614.2659 - mean_squared_error: 15992614.2659\n"
     ]
    },
    {
     "data": {
      "image/png": "[encoded data removed]",
      "text/plain": [
       "<matplotlib.figure.Figure at 0x21b9ad74eb8>"
      ]
     },
     "metadata": {},
     "output_type": "display_data"
    }
   ],
   "source": [
    "hist = model.fit(xTrain, yTrain, epochs=10)\n",
    "plt.plot(hist.history['mean_squared_error'])\n",
    "plt.show()"
   ]
  }
 ],
 "metadata": {
  "kernelspec": {
   "display_name": "Python 3",
   "language": "python",
   "name": "python3"
  },
  "language_info": {
   "codemirror_mode": {
    "name": "ipython",
    "version": 3
   },
   "file_extension": ".py",
   "mimetype": "text/x-python",
   "name": "python",
   "nbconvert_exporter": "python",
   "pygments_lexer": "ipython3",
   "version": "3.6.8"
  }
 },
 "nbformat": 4,
 "nbformat_minor": 2
}
